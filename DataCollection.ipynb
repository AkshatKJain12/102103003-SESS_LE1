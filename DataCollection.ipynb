{
 "cells": [
  {
   "cell_type": "code",
   "execution_count": 1,
   "id": "1ed9c864-ec67-4b10-b671-1f520625e0b4",
   "metadata": {},
   "outputs": [
    {
     "name": "stdout",
     "output_type": "stream",
     "text": [
      "Enter the word you are going to record (or type 'exit' to finish):  zero\n"
     ]
    },
    {
     "name": "stdout",
     "output_type": "stream",
     "text": [
      "Please say 'zero' into the microphone...\n",
      "Press Enter to start recording...\n"
     ]
    },
    {
     "name": "stdout",
     "output_type": "stream",
     "text": [
      " \n"
     ]
    },
    {
     "name": "stdout",
     "output_type": "stream",
     "text": [
      "Recording...\n",
      "Finished recording.\n",
      "Saved recording as audio_dataset\\zero\\zero_1.wav\n",
      "Please say 'zero' into the microphone...\n",
      "Press Enter to start recording...\n"
     ]
    },
    {
     "name": "stdout",
     "output_type": "stream",
     "text": [
      " \n"
     ]
    },
    {
     "name": "stdout",
     "output_type": "stream",
     "text": [
      "Recording...\n",
      "Finished recording.\n",
      "Saved recording as audio_dataset\\zero\\zero_2.wav\n",
      "Please say 'zero' into the microphone...\n",
      "Press Enter to start recording...\n"
     ]
    },
    {
     "name": "stdout",
     "output_type": "stream",
     "text": [
      " \n"
     ]
    },
    {
     "name": "stdout",
     "output_type": "stream",
     "text": [
      "Recording...\n",
      "Finished recording.\n",
      "Saved recording as audio_dataset\\zero\\zero_3.wav\n",
      "Please say 'zero' into the microphone...\n",
      "Press Enter to start recording...\n"
     ]
    },
    {
     "name": "stdout",
     "output_type": "stream",
     "text": [
      " \n"
     ]
    },
    {
     "name": "stdout",
     "output_type": "stream",
     "text": [
      "Recording...\n",
      "Finished recording.\n",
      "Saved recording as audio_dataset\\zero\\zero_4.wav\n",
      "Please say 'zero' into the microphone...\n",
      "Press Enter to start recording...\n"
     ]
    },
    {
     "name": "stdout",
     "output_type": "stream",
     "text": [
      " \n"
     ]
    },
    {
     "name": "stdout",
     "output_type": "stream",
     "text": [
      "Recording...\n",
      "Finished recording.\n",
      "Saved recording as audio_dataset\\zero\\zero_5.wav\n",
      "Please say 'zero' into the microphone...\n",
      "Press Enter to start recording...\n"
     ]
    },
    {
     "name": "stdout",
     "output_type": "stream",
     "text": [
      " \n"
     ]
    },
    {
     "name": "stdout",
     "output_type": "stream",
     "text": [
      "Recording...\n",
      "Finished recording.\n",
      "Saved recording as audio_dataset\\zero\\zero_6.wav\n",
      "Please say 'zero' into the microphone...\n",
      "Press Enter to start recording...\n"
     ]
    },
    {
     "name": "stdout",
     "output_type": "stream",
     "text": [
      " \n"
     ]
    },
    {
     "name": "stdout",
     "output_type": "stream",
     "text": [
      "Recording...\n",
      "Finished recording.\n",
      "Saved recording as audio_dataset\\zero\\zero_7.wav\n",
      "Please say 'zero' into the microphone...\n",
      "Press Enter to start recording...\n"
     ]
    },
    {
     "name": "stdout",
     "output_type": "stream",
     "text": [
      " \n"
     ]
    },
    {
     "name": "stdout",
     "output_type": "stream",
     "text": [
      "Recording...\n",
      "Finished recording.\n",
      "Saved recording as audio_dataset\\zero\\zero_8.wav\n",
      "Please say 'zero' into the microphone...\n",
      "Press Enter to start recording...\n"
     ]
    },
    {
     "name": "stdout",
     "output_type": "stream",
     "text": [
      " \n"
     ]
    },
    {
     "name": "stdout",
     "output_type": "stream",
     "text": [
      "Recording...\n",
      "Finished recording.\n",
      "Saved recording as audio_dataset\\zero\\zero_9.wav\n",
      "Please say 'zero' into the microphone...\n",
      "Press Enter to start recording...\n"
     ]
    },
    {
     "name": "stdout",
     "output_type": "stream",
     "text": [
      " \n"
     ]
    },
    {
     "name": "stdout",
     "output_type": "stream",
     "text": [
      "Recording...\n",
      "Finished recording.\n",
      "Saved recording as audio_dataset\\zero\\zero_10.wav\n"
     ]
    },
    {
     "name": "stdout",
     "output_type": "stream",
     "text": [
      "Enter the word you are going to record (or type 'exit' to finish):  sheila\n"
     ]
    },
    {
     "name": "stdout",
     "output_type": "stream",
     "text": [
      "Please say 'sheila' into the microphone...\n",
      "Press Enter to start recording...\n"
     ]
    },
    {
     "name": "stdout",
     "output_type": "stream",
     "text": [
      " \n"
     ]
    },
    {
     "name": "stdout",
     "output_type": "stream",
     "text": [
      "Recording...\n",
      "Finished recording.\n",
      "Saved recording as audio_dataset\\sheila\\sheila_1.wav\n",
      "Please say 'sheila' into the microphone...\n",
      "Press Enter to start recording...\n"
     ]
    },
    {
     "name": "stdout",
     "output_type": "stream",
     "text": [
      " \n"
     ]
    },
    {
     "name": "stdout",
     "output_type": "stream",
     "text": [
      "Recording...\n",
      "Finished recording.\n",
      "Saved recording as audio_dataset\\sheila\\sheila_2.wav\n",
      "Please say 'sheila' into the microphone...\n",
      "Press Enter to start recording...\n"
     ]
    },
    {
     "name": "stdout",
     "output_type": "stream",
     "text": [
      " \n"
     ]
    },
    {
     "name": "stdout",
     "output_type": "stream",
     "text": [
      "Recording...\n",
      "Finished recording.\n",
      "Saved recording as audio_dataset\\sheila\\sheila_3.wav\n",
      "Please say 'sheila' into the microphone...\n",
      "Press Enter to start recording...\n"
     ]
    },
    {
     "name": "stdout",
     "output_type": "stream",
     "text": [
      " \n"
     ]
    },
    {
     "name": "stdout",
     "output_type": "stream",
     "text": [
      "Recording...\n",
      "Finished recording.\n",
      "Saved recording as audio_dataset\\sheila\\sheila_4.wav\n",
      "Please say 'sheila' into the microphone...\n",
      "Press Enter to start recording...\n"
     ]
    },
    {
     "name": "stdout",
     "output_type": "stream",
     "text": [
      " \n"
     ]
    },
    {
     "name": "stdout",
     "output_type": "stream",
     "text": [
      "Recording...\n",
      "Finished recording.\n",
      "Saved recording as audio_dataset\\sheila\\sheila_5.wav\n",
      "Please say 'sheila' into the microphone...\n",
      "Press Enter to start recording...\n"
     ]
    },
    {
     "name": "stdout",
     "output_type": "stream",
     "text": [
      " \n"
     ]
    },
    {
     "name": "stdout",
     "output_type": "stream",
     "text": [
      "Recording...\n",
      "Finished recording.\n",
      "Saved recording as audio_dataset\\sheila\\sheila_6.wav\n",
      "Please say 'sheila' into the microphone...\n",
      "Press Enter to start recording...\n"
     ]
    },
    {
     "name": "stdout",
     "output_type": "stream",
     "text": [
      " \n"
     ]
    },
    {
     "name": "stdout",
     "output_type": "stream",
     "text": [
      "Recording...\n",
      "Finished recording.\n",
      "Saved recording as audio_dataset\\sheila\\sheila_7.wav\n",
      "Please say 'sheila' into the microphone...\n",
      "Press Enter to start recording...\n"
     ]
    },
    {
     "name": "stdout",
     "output_type": "stream",
     "text": [
      " \n"
     ]
    },
    {
     "name": "stdout",
     "output_type": "stream",
     "text": [
      "Recording...\n",
      "Finished recording.\n",
      "Saved recording as audio_dataset\\sheila\\sheila_8.wav\n",
      "Please say 'sheila' into the microphone...\n",
      "Press Enter to start recording...\n"
     ]
    },
    {
     "name": "stdout",
     "output_type": "stream",
     "text": [
      " \n"
     ]
    },
    {
     "name": "stdout",
     "output_type": "stream",
     "text": [
      "Recording...\n",
      "Finished recording.\n",
      "Saved recording as audio_dataset\\sheila\\sheila_9.wav\n",
      "Please say 'sheila' into the microphone...\n",
      "Press Enter to start recording...\n"
     ]
    },
    {
     "name": "stdout",
     "output_type": "stream",
     "text": [
      " \n"
     ]
    },
    {
     "name": "stdout",
     "output_type": "stream",
     "text": [
      "Recording...\n",
      "Finished recording.\n",
      "Saved recording as audio_dataset\\sheila\\sheila_10.wav\n"
     ]
    },
    {
     "name": "stdout",
     "output_type": "stream",
     "text": [
      "Enter the word you are going to record (or type 'exit' to finish):  up\n"
     ]
    },
    {
     "name": "stdout",
     "output_type": "stream",
     "text": [
      "Please say 'up' into the microphone...\n",
      "Press Enter to start recording...\n"
     ]
    },
    {
     "name": "stdout",
     "output_type": "stream",
     "text": [
      " \n"
     ]
    },
    {
     "name": "stdout",
     "output_type": "stream",
     "text": [
      "Recording...\n",
      "Finished recording.\n",
      "Saved recording as audio_dataset\\up\\up_1.wav\n",
      "Please say 'up' into the microphone...\n",
      "Press Enter to start recording...\n"
     ]
    },
    {
     "name": "stdout",
     "output_type": "stream",
     "text": [
      " \n"
     ]
    },
    {
     "name": "stdout",
     "output_type": "stream",
     "text": [
      "Recording...\n",
      "Finished recording.\n",
      "Saved recording as audio_dataset\\up\\up_2.wav\n",
      "Please say 'up' into the microphone...\n",
      "Press Enter to start recording...\n"
     ]
    },
    {
     "name": "stdout",
     "output_type": "stream",
     "text": [
      " \n"
     ]
    },
    {
     "name": "stdout",
     "output_type": "stream",
     "text": [
      "Recording...\n",
      "Finished recording.\n",
      "Saved recording as audio_dataset\\up\\up_3.wav\n",
      "Please say 'up' into the microphone...\n",
      "Press Enter to start recording...\n"
     ]
    },
    {
     "name": "stdout",
     "output_type": "stream",
     "text": [
      " \n"
     ]
    },
    {
     "name": "stdout",
     "output_type": "stream",
     "text": [
      "Recording...\n",
      "Finished recording.\n",
      "Saved recording as audio_dataset\\up\\up_4.wav\n",
      "Please say 'up' into the microphone...\n",
      "Press Enter to start recording...\n"
     ]
    },
    {
     "name": "stdout",
     "output_type": "stream",
     "text": [
      " \n"
     ]
    },
    {
     "name": "stdout",
     "output_type": "stream",
     "text": [
      "Recording...\n",
      "Finished recording.\n",
      "Saved recording as audio_dataset\\up\\up_5.wav\n",
      "Please say 'up' into the microphone...\n",
      "Press Enter to start recording...\n"
     ]
    },
    {
     "name": "stdout",
     "output_type": "stream",
     "text": [
      " \n"
     ]
    },
    {
     "name": "stdout",
     "output_type": "stream",
     "text": [
      "Recording...\n",
      "Finished recording.\n",
      "Saved recording as audio_dataset\\up\\up_6.wav\n",
      "Please say 'up' into the microphone...\n",
      "Press Enter to start recording...\n"
     ]
    },
    {
     "name": "stdout",
     "output_type": "stream",
     "text": [
      " \n"
     ]
    },
    {
     "name": "stdout",
     "output_type": "stream",
     "text": [
      "Recording...\n",
      "Finished recording.\n",
      "Saved recording as audio_dataset\\up\\up_7.wav\n",
      "Please say 'up' into the microphone...\n",
      "Press Enter to start recording...\n"
     ]
    },
    {
     "name": "stdout",
     "output_type": "stream",
     "text": [
      " \n"
     ]
    },
    {
     "name": "stdout",
     "output_type": "stream",
     "text": [
      "Recording...\n",
      "Finished recording.\n",
      "Saved recording as audio_dataset\\up\\up_8.wav\n",
      "Please say 'up' into the microphone...\n",
      "Press Enter to start recording...\n"
     ]
    },
    {
     "name": "stdout",
     "output_type": "stream",
     "text": [
      " \n"
     ]
    },
    {
     "name": "stdout",
     "output_type": "stream",
     "text": [
      "Recording...\n",
      "Finished recording.\n",
      "Saved recording as audio_dataset\\up\\up_9.wav\n",
      "Please say 'up' into the microphone...\n",
      "Press Enter to start recording...\n"
     ]
    },
    {
     "name": "stdout",
     "output_type": "stream",
     "text": [
      " \n"
     ]
    },
    {
     "name": "stdout",
     "output_type": "stream",
     "text": [
      "Recording...\n",
      "Finished recording.\n",
      "Saved recording as audio_dataset\\up\\up_10.wav\n"
     ]
    },
    {
     "name": "stdout",
     "output_type": "stream",
     "text": [
      "Enter the word you are going to record (or type 'exit' to finish):  two\n"
     ]
    },
    {
     "name": "stdout",
     "output_type": "stream",
     "text": [
      "Please say 'two' into the microphone...\n",
      "Press Enter to start recording...\n"
     ]
    },
    {
     "name": "stdout",
     "output_type": "stream",
     "text": [
      " \n"
     ]
    },
    {
     "name": "stdout",
     "output_type": "stream",
     "text": [
      "Recording...\n",
      "Finished recording.\n",
      "Saved recording as audio_dataset\\two\\two_1.wav\n",
      "Please say 'two' into the microphone...\n",
      "Press Enter to start recording...\n"
     ]
    },
    {
     "name": "stdout",
     "output_type": "stream",
     "text": [
      " \n"
     ]
    },
    {
     "name": "stdout",
     "output_type": "stream",
     "text": [
      "Recording...\n",
      "Finished recording.\n",
      "Saved recording as audio_dataset\\two\\two_2.wav\n",
      "Please say 'two' into the microphone...\n",
      "Press Enter to start recording...\n"
     ]
    },
    {
     "name": "stdout",
     "output_type": "stream",
     "text": [
      " \n"
     ]
    },
    {
     "name": "stdout",
     "output_type": "stream",
     "text": [
      "Recording...\n",
      "Finished recording.\n",
      "Saved recording as audio_dataset\\two\\two_3.wav\n",
      "Please say 'two' into the microphone...\n",
      "Press Enter to start recording...\n"
     ]
    },
    {
     "name": "stdout",
     "output_type": "stream",
     "text": [
      " \n"
     ]
    },
    {
     "name": "stdout",
     "output_type": "stream",
     "text": [
      "Recording...\n",
      "Finished recording.\n",
      "Saved recording as audio_dataset\\two\\two_4.wav\n",
      "Please say 'two' into the microphone...\n",
      "Press Enter to start recording...\n"
     ]
    },
    {
     "name": "stdout",
     "output_type": "stream",
     "text": [
      " \n"
     ]
    },
    {
     "name": "stdout",
     "output_type": "stream",
     "text": [
      "Recording...\n",
      "Finished recording.\n",
      "Saved recording as audio_dataset\\two\\two_5.wav\n",
      "Please say 'two' into the microphone...\n",
      "Press Enter to start recording...\n"
     ]
    },
    {
     "name": "stdout",
     "output_type": "stream",
     "text": [
      " \n"
     ]
    },
    {
     "name": "stdout",
     "output_type": "stream",
     "text": [
      "Recording...\n",
      "Finished recording.\n",
      "Saved recording as audio_dataset\\two\\two_6.wav\n",
      "Please say 'two' into the microphone...\n",
      "Press Enter to start recording...\n"
     ]
    },
    {
     "name": "stdout",
     "output_type": "stream",
     "text": [
      " \n"
     ]
    },
    {
     "name": "stdout",
     "output_type": "stream",
     "text": [
      "Recording...\n",
      "Finished recording.\n",
      "Saved recording as audio_dataset\\two\\two_7.wav\n",
      "Please say 'two' into the microphone...\n",
      "Press Enter to start recording...\n"
     ]
    },
    {
     "name": "stdout",
     "output_type": "stream",
     "text": [
      " \n"
     ]
    },
    {
     "name": "stdout",
     "output_type": "stream",
     "text": [
      "Recording...\n",
      "Finished recording.\n",
      "Saved recording as audio_dataset\\two\\two_8.wav\n",
      "Please say 'two' into the microphone...\n",
      "Press Enter to start recording...\n"
     ]
    },
    {
     "name": "stdout",
     "output_type": "stream",
     "text": [
      " \n"
     ]
    },
    {
     "name": "stdout",
     "output_type": "stream",
     "text": [
      "Recording...\n",
      "Finished recording.\n",
      "Saved recording as audio_dataset\\two\\two_9.wav\n",
      "Please say 'two' into the microphone...\n",
      "Press Enter to start recording...\n"
     ]
    },
    {
     "name": "stdout",
     "output_type": "stream",
     "text": [
      " \n"
     ]
    },
    {
     "name": "stdout",
     "output_type": "stream",
     "text": [
      "Recording...\n",
      "Finished recording.\n",
      "Saved recording as audio_dataset\\two\\two_10.wav\n"
     ]
    },
    {
     "name": "stdout",
     "output_type": "stream",
     "text": [
      "Enter the word you are going to record (or type 'exit' to finish):  tree\n"
     ]
    },
    {
     "name": "stdout",
     "output_type": "stream",
     "text": [
      "Please say 'tree' into the microphone...\n",
      "Press Enter to start recording...\n"
     ]
    },
    {
     "name": "stdout",
     "output_type": "stream",
     "text": [
      " \n"
     ]
    },
    {
     "name": "stdout",
     "output_type": "stream",
     "text": [
      "Recording...\n",
      "Finished recording.\n",
      "Saved recording as audio_dataset\\tree\\tree_1.wav\n",
      "Please say 'tree' into the microphone...\n",
      "Press Enter to start recording...\n"
     ]
    },
    {
     "name": "stdout",
     "output_type": "stream",
     "text": [
      " \n"
     ]
    },
    {
     "name": "stdout",
     "output_type": "stream",
     "text": [
      "Recording...\n",
      "Finished recording.\n",
      "Saved recording as audio_dataset\\tree\\tree_2.wav\n",
      "Please say 'tree' into the microphone...\n",
      "Press Enter to start recording...\n"
     ]
    },
    {
     "name": "stdout",
     "output_type": "stream",
     "text": [
      " \n"
     ]
    },
    {
     "name": "stdout",
     "output_type": "stream",
     "text": [
      "Recording...\n",
      "Finished recording.\n",
      "Saved recording as audio_dataset\\tree\\tree_3.wav\n",
      "Please say 'tree' into the microphone...\n",
      "Press Enter to start recording...\n"
     ]
    },
    {
     "name": "stdout",
     "output_type": "stream",
     "text": [
      " \n"
     ]
    },
    {
     "name": "stdout",
     "output_type": "stream",
     "text": [
      "Recording...\n",
      "Finished recording.\n",
      "Saved recording as audio_dataset\\tree\\tree_4.wav\n",
      "Please say 'tree' into the microphone...\n",
      "Press Enter to start recording...\n"
     ]
    },
    {
     "name": "stdout",
     "output_type": "stream",
     "text": [
      " \n"
     ]
    },
    {
     "name": "stdout",
     "output_type": "stream",
     "text": [
      "Recording...\n",
      "Finished recording.\n",
      "Saved recording as audio_dataset\\tree\\tree_5.wav\n",
      "Please say 'tree' into the microphone...\n",
      "Press Enter to start recording...\n"
     ]
    },
    {
     "name": "stdout",
     "output_type": "stream",
     "text": [
      " \n"
     ]
    },
    {
     "name": "stdout",
     "output_type": "stream",
     "text": [
      "Recording...\n",
      "Finished recording.\n",
      "Saved recording as audio_dataset\\tree\\tree_6.wav\n",
      "Please say 'tree' into the microphone...\n",
      "Press Enter to start recording...\n"
     ]
    },
    {
     "name": "stdout",
     "output_type": "stream",
     "text": [
      " \n"
     ]
    },
    {
     "name": "stdout",
     "output_type": "stream",
     "text": [
      "Recording...\n",
      "Finished recording.\n",
      "Saved recording as audio_dataset\\tree\\tree_7.wav\n",
      "Please say 'tree' into the microphone...\n",
      "Press Enter to start recording...\n"
     ]
    },
    {
     "name": "stdout",
     "output_type": "stream",
     "text": [
      " \n"
     ]
    },
    {
     "name": "stdout",
     "output_type": "stream",
     "text": [
      "Recording...\n",
      "Finished recording.\n",
      "Saved recording as audio_dataset\\tree\\tree_8.wav\n",
      "Please say 'tree' into the microphone...\n",
      "Press Enter to start recording...\n"
     ]
    },
    {
     "name": "stdout",
     "output_type": "stream",
     "text": [
      " \n"
     ]
    },
    {
     "name": "stdout",
     "output_type": "stream",
     "text": [
      "Recording...\n",
      "Finished recording.\n",
      "Saved recording as audio_dataset\\tree\\tree_9.wav\n",
      "Please say 'tree' into the microphone...\n",
      "Press Enter to start recording...\n"
     ]
    },
    {
     "name": "stdout",
     "output_type": "stream",
     "text": [
      " \n"
     ]
    },
    {
     "name": "stdout",
     "output_type": "stream",
     "text": [
      "Recording...\n",
      "Finished recording.\n",
      "Saved recording as audio_dataset\\tree\\tree_10.wav\n"
     ]
    },
    {
     "name": "stdout",
     "output_type": "stream",
     "text": [
      "Enter the word you are going to record (or type 'exit' to finish):  exit\n"
     ]
    }
   ],
   "source": [
    "import os\n",
    "import pyaudio\n",
    "import wave\n",
    "import time\n",
    "\n",
    "def record_audio(filename, duration=1, sample_rate=16000, channels=1, chunk=1024):\n",
    "    \"\"\"Record audio for a specified duration and save to a WAV file.\"\"\"\n",
    "    audio = pyaudio.PyAudio()\n",
    "    \n",
    "    stream = audio.open(format=pyaudio.paInt16, channels=channels, rate=sample_rate, input=True, frames_per_buffer=chunk)\n",
    "    \n",
    "    print(\"Recording...\")\n",
    "    frames = []\n",
    "    \n",
    "    for _ in range(int(sample_rate / chunk * duration)):\n",
    "        data = stream.read(chunk)\n",
    "        frames.append(data)\n",
    "    \n",
    "    print(\"Finished recording.\")\n",
    "    \n",
    "    stream.stop_stream()\n",
    "    stream.close()\n",
    "    audio.terminate()\n",
    "    \n",
    "    with wave.open(filename, 'wb') as wf:\n",
    "        wf.setnchannels(channels)\n",
    "        wf.setsampwidth(audio.get_sample_size(pyaudio.paInt16))\n",
    "        wf.setframerate(sample_rate)\n",
    "        wf.writeframes(b''.join(frames))\n",
    "\n",
    "def create_dataset(num_samples_per_word=10):\n",
    "    base_dir = 'audio_dataset'\n",
    "    \n",
    "    if not os.path.exists(base_dir):\n",
    "        os.makedirs(base_dir)\n",
    "    \n",
    "    while True:\n",
    "        word = input(\"Enter the word you are going to record (or type 'exit' to finish): \").strip()\n",
    "        if word.lower() == 'exit':\n",
    "            break\n",
    "        \n",
    "        word_dir = os.path.join(base_dir, word)\n",
    "        if not os.path.exists(word_dir):\n",
    "            os.makedirs(word_dir)\n",
    "        \n",
    "        for i in range(num_samples_per_word):\n",
    "            filename = os.path.join(word_dir, f'{word}_{i+1}.wav')\n",
    "            print(f\"Please say '{word}' into the microphone...\")\n",
    "            \n",
    "            print(\"Press Enter to start recording...\")\n",
    "            input()\n",
    "            record_audio(filename, duration=1)\n",
    "            print(f\"Saved recording as {filename}\")\n",
    "\n",
    "create_dataset()"
   ]
  },
  {
   "cell_type": "code",
   "execution_count": 9,
   "id": "8244602e-4ec7-4c2b-a734-2602b6155e2b",
   "metadata": {},
   "outputs": [],
   "source": [
    "import os\n",
    "import librosa\n",
    "import numpy as np\n",
    "import soundfile as sf\n",
    "\n",
    "def add_noise(y, noise_level=0.005):\n",
    "    noise = np.random.randn(len(y))\n",
    "    y_noisy = y + noise_level * noise\n",
    "    return y_noisy\n",
    "\n",
    "def shift_pitch(y, sr, n_steps=2):\n",
    "    return librosa.effects.pitch_shift(y, sr=sr, n_steps=n_steps)\n",
    "\n",
    "def change_speed(y, speed_factor=1.2):\n",
    "    return librosa.effects.time_stretch(y, rate = speed_factor)\n",
    "\n",
    "def augment_audio(input_file, output_file, sr=16000):\n",
    "    y, sr = librosa.load(input_file, sr=sr)\n",
    "    \n",
    "    sf.write(output_file, y, sr)\n",
    "    \n",
    "    noisy_y = add_noise(y)\n",
    "    noisy_file = output_file.replace('.wav', '_noisy.wav')\n",
    "    sf.write(noisy_file, noisy_y, sr)\n",
    "    \n",
    "    pitch_y = shift_pitch(y, sr)\n",
    "    pitch_file = output_file.replace('.wav', '_pitch.wav')\n",
    "    sf.write(pitch_file, pitch_y, sr)\n",
    "    \n",
    "    speed_y = change_speed(y)\n",
    "    speed_file = output_file.replace('.wav', '_speed.wav')\n",
    "    sf.write(speed_file, speed_y, sr)\n",
    "\n",
    "def augment_dataset(dataset_dir):\n",
    "    for word in os.listdir(dataset_dir):\n",
    "        word_dir = os.path.join(dataset_dir, word)\n",
    "        if os.path.isdir(word_dir):\n",
    "            audio_files = [f for f in os.listdir(word_dir) if f.endswith('.wav')]\n",
    "            for audio_file in audio_files:\n",
    "                input_file = os.path.join(word_dir, audio_file)\n",
    "                output_file = input_file.replace('.wav', '_augmented.wav')\n",
    "                augment_audio(input_file, output_file)\n",
    "\n",
    "dataset_dir = 'audio_dataset'\n",
    "augment_dataset(dataset_dir)\n"
   ]
  }
 ],
 "metadata": {
  "kernelspec": {
   "display_name": "Python 3 (ipykernel)",
   "language": "python",
   "name": "python3"
  },
  "language_info": {
   "codemirror_mode": {
    "name": "ipython",
    "version": 3
   },
   "file_extension": ".py",
   "mimetype": "text/x-python",
   "name": "python",
   "nbconvert_exporter": "python",
   "pygments_lexer": "ipython3",
   "version": "3.11.9"
  }
 },
 "nbformat": 4,
 "nbformat_minor": 5
}
